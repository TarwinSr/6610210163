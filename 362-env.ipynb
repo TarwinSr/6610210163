{
 "cells": [
  {
   "cell_type": "code",
   "execution_count": 1,
   "id": "1a070da2-c010-4fdd-87d9-aff9a30bd18c",
   "metadata": {},
   "outputs": [
    {
     "name": "stdout",
     "output_type": "stream",
     "text": [
      "Loaded 50 apple images\n",
      "Loaded 49 orange images\n"
     ]
    }
   ],
   "source": [
    "import os\n",
    "import cv2\n",
    "import numpy as np\n",
    "\n",
    "base_dir = \"D:/1_MyClasses/344-362/2568/dataset\"\n",
    "\n",
    "def load_images_from_folder(folder):\n",
    "    images = []\n",
    "    for filename in os.listdir(folder):\n",
    "        img = cv2.imread(os.path.join(folder, filename))\n",
    "        if img is not None:\n",
    "            images.append(img)\n",
    "    return images\n",
    "\n",
    "# Load images\n",
    "apple_images = load_images_from_folder(os.path.join(base_dir, \"apple\"))\n",
    "orange_images = load_images_from_folder(os.path.join(base_dir, \"orange\"))\n",
    "\n",
    "print(f\"Loaded {len(apple_images)} apple images\")\n",
    "print(f\"Loaded {len(orange_images)} orange images\")"
   ]
  },
  {
   "cell_type": "code",
   "execution_count": 2,
   "id": "a8cf52a6-55e6-45f7-b790-fda64af80a62",
   "metadata": {},
   "outputs": [],
   "source": [
    "# You might want to resize or preprocess these images later\n",
    "# Example: resize to a common size (e.g., 100x100)\n",
    "resized_apple_images = [cv2.resize(img, (100, 100)) for img in apple_images]\n",
    "resized_orange_images = [cv2.resize(img, (100, 100)) for img in orange_images]"
   ]
  },
  {
   "cell_type": "code",
   "execution_count": 3,
   "id": "f589d9fb-3d7d-4fbc-b02f-7c69ae007a1b",
   "metadata": {},
   "outputs": [
    {
     "name": "stdout",
     "output_type": "stream",
     "text": [
      "Flattened apple features shape (first image): (30000,)\n",
      "Flattened orange features shape (first image): (30000,)\n"
     ]
    }
   ],
   "source": [
    "# Flatten the resized images into feature vectors\n",
    "apple_features = [img.flatten() for img in resized_apple_images]\n",
    "orange_features = [img.flatten() for img in resized_orange_images]\n",
    "\n",
    "print(f\"Flattened apple features shape (first image): {apple_features[0].shape}\")\n",
    "print(f\"Flattened orange features shape (first image): {orange_features[0].shape}\")"
   ]
  },
  {
   "cell_type": "code",
   "execution_count": 4,
   "id": "bdb60b8d-10d8-4a34-8d6d-5e7f55ff9d3d",
   "metadata": {},
   "outputs": [
    {
     "name": "stdout",
     "output_type": "stream",
     "text": [
      "Training features shape: (79, 30000)\n",
      "Testing features shape: (20, 30000)\n",
      "Training labels shape: (79,)\n",
      "Testing labels shape: (20,)\n"
     ]
    }
   ],
   "source": [
    "from sklearn.model_selection import train_test_split\n",
    "\n",
    "# Create labels: 0 for apple, 1 for orange\n",
    "apple_labels = [0] * len(apple_features)\n",
    "orange_labels = [1] * len(orange_features)\n",
    "\n",
    "# Combine features and labels\n",
    "all_features = apple_features + orange_features\n",
    "all_labels = apple_labels + orange_labels\n",
    "\n",
    "# Convert to numpy arrays\n",
    "X = np.array(all_features)\n",
    "y = np.array(all_labels)\n",
    "\n",
    "# Split data into training and testing sets\n",
    "X_train, X_test, y_train, y_test = train_test_split(X, y, test_size=0.2, random_state=42)\n",
    "\n",
    "print(f\"Training features shape: {X_train.shape}\")\n",
    "print(f\"Testing features shape: {X_test.shape}\")\n",
    "print(f\"Training labels shape: {y_train.shape}\")\n",
    "print(f\"Testing labels shape: {y_test.shape}\")"
   ]
  },
  {
   "cell_type": "code",
   "execution_count": 5,
   "id": "8cfc948f-1869-4aa6-b935-5388a9e0d98a",
   "metadata": {},
   "outputs": [
    {
     "name": "stdout",
     "output_type": "stream",
     "text": [
      "Accuracy: 0.90\n",
      "\n",
      "Classification Report:\n",
      "              precision    recall  f1-score   support\n",
      "\n",
      "           0       0.92      0.92      0.92        12\n",
      "           1       0.88      0.88      0.88         8\n",
      "\n",
      "    accuracy                           0.90        20\n",
      "   macro avg       0.90      0.90      0.90        20\n",
      "weighted avg       0.90      0.90      0.90        20\n",
      "\n"
     ]
    }
   ],
   "source": [
    "from sklearn import svm\n",
    "from sklearn.metrics import accuracy_score, classification_report\n",
    "\n",
    "# Initialize and train the SVM classifier\n",
    "svm_model = svm.SVC(kernel='linear')\n",
    "svm_model.fit(X_train, y_train)\n",
    "\n",
    "# Predict on the test set\n",
    "y_pred = svm_model.predict(X_test)\n",
    "\n",
    "# Evaluate the model\n",
    "accuracy = accuracy_score(y_test, y_pred)\n",
    "print(f\"Accuracy: {accuracy:.2f}\")\n",
    "\n",
    "print(\"\\nClassification Report:\")\n",
    "print(classification_report(y_test, y_pred))"
   ]
  },
  {
   "cell_type": "code",
   "execution_count": 6,
   "id": "bb8458a6-6e99-4f5b-a3ff-48e9ce2f1980",
   "metadata": {},
   "outputs": [
    {
     "name": "stdout",
     "output_type": "stream",
     "text": [
      "Model saved to svm_image_classifier_model.pkl\n"
     ]
    }
   ],
   "source": [
    "import joblib\n",
    "\n",
    "# Save the trained model to a file\n",
    "filename = 'svm_image_classifier_model.pkl'\n",
    "joblib.dump(svm_model, filename)\n",
    "\n",
    "print(f\"Model saved to {filename}\")"
   ]
  },
  {
   "cell_type": "code",
   "execution_count": null,
   "id": "4665bbf6-c2e5-41f1-9957-e2b7248ac969",
   "metadata": {},
   "outputs": [],
   "source": []
  }
 ],
 "metadata": {
  "kernelspec": {
   "display_name": "Python (362-env)",
   "language": "python",
   "name": "362-env"
  },
  "language_info": {
   "codemirror_mode": {
    "name": "ipython",
    "version": 3
   },
   "file_extension": ".py",
   "mimetype": "text/x-python",
   "name": "python",
   "nbconvert_exporter": "python",
   "pygments_lexer": "ipython3",
   "version": "3.13.5"
  }
 },
 "nbformat": 4,
 "nbformat_minor": 5
}
